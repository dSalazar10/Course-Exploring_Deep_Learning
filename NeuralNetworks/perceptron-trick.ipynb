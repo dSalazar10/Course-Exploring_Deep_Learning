{
 "cells": [
  {
   "cell_type": "code",
   "execution_count": 6,
   "metadata": {},
   "outputs": [],
   "source": [
    "def p_trick(input1, input2, input3):\n",
    "    return input1 * 1 + input2 * 1 - input3"
   ]
  },
  {
   "cell_type": "code",
   "execution_count": 19,
   "metadata": {
    "tags": []
   },
   "outputs": [
    {
     "output_type": "execute_result",
     "data": {
      "text/plain": "-2.0"
     },
     "metadata": {},
     "execution_count": 19
    }
   ],
   "source": [
    "i1 = 3\n",
    "i2 = 4\n",
    "i3 = 10\n",
    "for i in range(0, 10):\n",
    "    i1 += 0.1\n",
    "    i2 += 0.1\n",
    "    i3 += 0.1\n",
    "p_trick(i1, i2, i3)"
   ]
  },
  {
   "cell_type": "code",
   "execution_count": null,
   "metadata": {},
   "outputs": [],
   "source": []
  },
  {
   "cell_type": "code",
   "execution_count": null,
   "metadata": {},
   "outputs": [],
   "source": []
  }
 ],
 "metadata": {
  "language_info": {
   "codemirror_mode": {
    "name": "ipython",
    "version": 3
   },
   "file_extension": ".py",
   "mimetype": "text/x-python",
   "name": "python",
   "nbconvert_exporter": "python",
   "pygments_lexer": "ipython3",
   "version": "3.7.4-final"
  },
  "orig_nbformat": 2,
  "kernelspec": {
   "name": "python3",
   "display_name": "Python 3"
  }
 },
 "nbformat": 4,
 "nbformat_minor": 2
}