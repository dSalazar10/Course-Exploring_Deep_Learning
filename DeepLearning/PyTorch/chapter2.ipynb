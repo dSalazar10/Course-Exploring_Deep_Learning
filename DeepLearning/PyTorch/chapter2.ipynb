{
 "cells": [
  {
   "cell_type": "code",
   "execution_count": 1,
   "metadata": {},
   "outputs": [],
   "source": [
    "import torch"
   ]
  },
  {
   "cell_type": "code",
   "execution_count": 12,
   "metadata": {
    "tags": []
   },
   "outputs": [
    {
     "output_type": "stream",
     "name": "stdout",
     "text": "1.0\n"
    },
    {
     "output_type": "execute_result",
     "data": {
      "text/plain": "[1.0, 2.0, 1.0]"
     },
     "metadata": {},
     "execution_count": 12
    }
   ],
   "source": [
    "a = [1.0, 2.0, 1.0]\n",
    "print(a[0])\n",
    "a"
   ]
  },
  {
   "cell_type": "code",
   "execution_count": 17,
   "metadata": {
    "tags": []
   },
   "outputs": [
    {
     "output_type": "stream",
     "name": "stdout",
     "text": "tensor([1., 1., 1.])\n"
    },
    {
     "output_type": "execute_result",
     "data": {
      "text/plain": "tensor([1., 1., 2.])"
     },
     "metadata": {},
     "execution_count": 17
    }
   ],
   "source": [
    "# creates a (one-dimensional) tensor of size 3 filled with the value 1.0\n",
    "b = torch.ones(3)\n",
    "print(b)\n",
    "float(b[1])\n",
    "b[2] = 2.0\n",
    "b"
   ]
  },
  {
   "cell_type": "code",
   "execution_count": 32,
   "metadata": {
    "tags": []
   },
   "outputs": [
    {
     "output_type": "stream",
     "name": "stdout",
     "text": "tensor(4.)\n"
    },
    {
     "output_type": "execute_result",
     "data": {
      "text/plain": "torch.Size([3, 2])"
     },
     "metadata": {},
     "execution_count": 32
    }
   ],
   "source": [
    "d_flag = False\n",
    "if d_flag:\n",
    "    # Empty construction of a 3x2 Tensor\n",
    "    points = torch.zeros(3, 2)\n",
    "else:\n",
    "    # Parameter construction of a 3x2 Tensor\n",
    "    points = torch.tensor([[1.0, 4.0], [2.0, 1.0], [3.0, 5.0]])\n",
    "# Different view of the data stored in RAM\n",
    "print(points[0, 1])\n",
    "points.shape"
   ]
  },
  {
   "cell_type": "code",
   "execution_count": 35,
   "metadata": {
    "tags": []
   },
   "outputs": [
    {
     "output_type": "stream",
     "name": "stdout",
     "text": "1.0\ntensor([[1., 2.],\n        [2., 1.],\n        [3., 5.]])\n"
    }
   ],
   "source": [
    "# the storage under the hood is a contiguous array of size 6\n",
    "points_storage = points.storage()\n",
    "# You can’t index a storage of a 2D tensor by using two indices\n",
    "print(points_storage[0])\n",
    "points_storage[1] = 2.0\n",
    "print(points) # used to be 4."
   ]
  },
  {
   "cell_type": "code",
   "execution_count": 39,
   "metadata": {
    "tags": []
   },
   "outputs": [
    {
     "output_type": "stream",
     "name": "stdout",
     "text": "torch.Size([2])\n2\n(2, 1)\ntorch.Size([2])\n"
    }
   ],
   "source": [
    "second_point = points[1]\n",
    "# a tuple indicating how many elements across each dimension the tensor represents\n",
    "print(second_point.size())\n",
    "# the index in the storage that corresponds to the first element in the tensor\n",
    "print(second_point.storage_offset())\n",
    "# the number of elements in the storage that need to be skipped to obtain the next element along each dimension\n",
    "print(points.stride())\n",
    "# the number of rows and columns\n",
    "print(second_point.shape)"
   ]
  },
  {
   "cell_type": "markdown",
   "metadata": {},
   "source": [
    "# Multidimensional Array Accessing\n",
    "To access an element i, j in a 2D tensor results in accessing the storage_offset + stride\\[0\\] \\* i + stride\\[1\\] \\* j element in the storage"
   ]
  },
  {
   "cell_type": "code",
   "execution_count": 42,
   "metadata": {
    "tags": []
   },
   "outputs": [
    {
     "output_type": "stream",
     "name": "stdout",
     "text": "torch.Size([2])\n2\n(1,)\n"
    }
   ],
   "source": [
    "points = torch.tensor([[1.0, 4.0], [2.0, 1.0], [3.0, 5.0]])\n",
    "second_point = points[1]\n",
    "print(second_point.size())\n",
    "print(second_point.storage_offset())\n",
    "print(second_point.stride())"
   ]
  },
  {
   "cell_type": "markdown",
   "metadata": {},
   "source": [
    "# Cloning a subtensor"
   ]
  },
  {
   "cell_type": "code",
   "execution_count": 46,
   "metadata": {
    "tags": []
   },
   "outputs": [
    {
     "output_type": "stream",
     "name": "stdout",
     "text": "tensor([2., 1.])\ntensor([10.,  1.])\n"
    }
   ],
   "source": [
    "points = torch.tensor([[1.0, 4.0], [2.0, 1.0], [3.0, 5.0]]) \n",
    "second_point = points[1].clone()\n",
    "second_point[0] = 10.0\n",
    "print(points[1])\n",
    "print(second_point)"
   ]
  },
  {
   "cell_type": "markdown",
   "metadata": {},
   "source": [
    "# Transposing a tensor\n",
    "works on any tensor of any dimension"
   ]
  },
  {
   "cell_type": "markdown",
   "metadata": {},
   "source": [
    "# Transposing Tensors"
   ]
  },
  {
   "cell_type": "code",
   "execution_count": 59,
   "metadata": {
    "tags": []
   },
   "outputs": [
    {
     "output_type": "stream",
     "name": "stdout",
     "text": "torch.Size([3, 2])\ntensor([[1., 2., 3.],\n        [4., 1., 5.]])\nTrue\n(2, 1)\n(1, 2)\n"
    }
   ],
   "source": [
    "# 3x2 Tensor\n",
    "# 2x3 Tensor\n",
    "points = torch.tensor([[1.0, 4.0], [2.0, 1.0], [3.0, 5.0]])\n",
    "# transposing is obtained only by creating a new Tensor instance with different stride ordering from the original\n",
    "points_t = points.t()\n",
    "print(points.shape)\n",
    "print(points_t)\n",
    "# verify that two tensors share storage\n",
    "print(id(points.storage()) == id(points_t.storage()))\n",
    "# they only differ in shape and stride\n",
    "print(points.stride())\n",
    "print(points_t.stride())"
   ]
  },
  {
   "cell_type": "code",
   "execution_count": 62,
   "metadata": {
    "tags": []
   },
   "outputs": [
    {
     "output_type": "stream",
     "name": "stdout",
     "text": "torch.float32\ntorch.float64\ntorch.float16\ntorch.int8\ntorch.uint8\ntorch.int16\ntorch.int32\ntorch.int64\n"
    }
   ],
   "source": [
    "# You can create tensors of a specific data type\n",
    "float_points = torch.ones(10, 2, dtype=torch.float)\n",
    "print(float_points.dtype)\n",
    "\n",
    "double_points = torch.ones(10, 2, dtype=torch.double)\n",
    "print(double_points.dtype)\n",
    "\n",
    "half_points = torch.ones(10, 2, dtype=torch.half)\n",
    "print(half_points.dtype)\n",
    "\n",
    "int8_points = torch.ones(10, 2, dtype=torch.int8)\n",
    "print(int8_points.dtype)\n",
    "\n",
    "uint8_points = torch.ones(10, 2, dtype=torch.uint8)\n",
    "print(uint8_points.dtype)\n",
    "\n",
    "short_points = torch.ones(10, 2, dtype=torch.short)\n",
    "print(short_points.dtype)\n",
    "\n",
    "int_points = torch.ones(10, 2, dtype=torch.int)\n",
    "print(int_points.dtype)\n",
    "\n",
    "long_points = torch.ones(10, 2, dtype=torch.long)\n",
    "print(long_points.dtype)"
   ]
  },
  {
   "cell_type": "code",
   "execution_count": 63,
   "metadata": {},
   "outputs": [],
   "source": [
    "# you can cast the output of a tensor-creation function to the right type by using the corresponding casting method \n",
    "double_points1 = torch.zeros(10, 2).double() \n",
    "double_points2 = torch.zeros(10, 2).to(torch.double) \n",
    "\n",
    "short_points1 = torch.ones(10, 2).short()\n",
    "short_points2 = torch.ones(10, 2).to(dtype=torch.short)"
   ]
  },
  {
   "cell_type": "markdown",
   "metadata": {},
   "source": [
    "# Indexing tensors"
   ]
  },
  {
   "cell_type": "code",
   "execution_count": 84,
   "metadata": {},
   "outputs": [
    {
     "output_type": "execute_result",
     "data": {
      "text/plain": "tensor([[1., 4.],\n        [2., 1.],\n        [3., 5.]])"
     },
     "metadata": {},
     "execution_count": 84
    }
   ],
   "source": [
    "# Range indexing notation can be used on Tensors\n",
    "some_list = list(range(6)) \n",
    "# All elements in the list\n",
    "some_list[:] \n",
    "# From element 1 inclusive to element 4 exclusive\n",
    "some_list[1:4] \n",
    "# From element 1 inclusive to the end of the list\n",
    "some_list[1:] \n",
    "# From the start of the list to element 4 exclusive\n",
    "some_list[:4] \n",
    "# From the start of the list to one before the last element\n",
    "some_list[:-1] \n",
    "# From element 1 inclusive to element 4 exclusive in steps of 2\n",
    "some_list[1:4:2]\n",
    "\n",
    "# Range indexing for each dimension works as well\n",
    "# All rows after first, implicitly all columns\n",
    "points[1:] \n",
    "# All rows after first, all column\n",
    "points[1:, :] \n",
    "# All rows after first, first column\n",
    "points[1:, 1:2]\n",
    "\n",
    "# PyTorch also has advanced indexing\n",
    "points[:, (0, -1)]"
   ]
  },
  {
   "cell_type": "markdown",
   "metadata": {},
   "source": [
    "# NumPy interoperability\n",
    "zero-copy interoperability with NumPy arrays is due to the storage system that works with the Python buffer protocol"
   ]
  },
  {
   "cell_type": "code",
   "execution_count": 98,
   "metadata": {
    "tags": []
   },
   "outputs": [
    {
     "output_type": "stream",
     "name": "stdout",
     "text": "[[1. 1. 1. 1.]\n [1. 1. 1. 1.]\n [1. 1. 1. 1.]]\ntensor([[1., 1., 1., 1.],\n        [1., 1., 1., 1.],\n        [1., 1., 1., 1.]])\n"
    }
   ],
   "source": [
    "points = torch.ones(3, 4)\n",
    "points_np = points.numpy()\n",
    "print(points_np)\n",
    "points = torch.from_numpy(points_np)\n",
    "print(points)"
   ]
  },
  {
   "cell_type": "markdown",
   "metadata": {},
   "source": [
    "# Serializing tensors\n",
    "save Tensor data to a file and load it back at some point"
   ]
  },
  {
   "cell_type": "code",
   "execution_count": 109,
   "metadata": {
    "tags": []
   },
   "outputs": [
    {
     "output_type": "execute_result",
     "data": {
      "text/plain": "tensor([[1., 4.],\n        [2., 1.],\n        [3., 5.]])"
     },
     "metadata": {},
     "execution_count": 109
    }
   ],
   "source": [
    "points = torch.tensor([[1.0, 4.0], [2.0, 1.0], [3.0, 5.0]])\n",
    "points"
   ]
  },
  {
   "cell_type": "code",
   "execution_count": 110,
   "metadata": {
    "tags": []
   },
   "outputs": [
    {
     "output_type": "stream",
     "name": "stdout",
     "text": "tensor([[1., 1., 1., 1.],\n        [1., 1., 1., 1.],\n        [1., 1., 1., 1.]])\n"
    },
    {
     "output_type": "execute_result",
     "data": {
      "text/plain": "tensor([[1., 4.],\n        [2., 1.],\n        [3., 5.]])"
     },
     "metadata": {},
     "execution_count": 110
    }
   ],
   "source": [
    "# Tensor's Propietary file system save and load:\n",
    "file_name = 'data/points.t'\n",
    "# save to file\n",
    "# torch.save(points, file_name)\n",
    "with open(file_name,'wb') as f:\n",
    "    torch.save(points, f)\n",
    "\n",
    "points = torch.ones(3, 4)\n",
    "print(points)\n",
    "\n",
    "# load from file\n",
    "#points = torch.load(file_name)\n",
    "with open(file_name,'rb') as f:\n",
    "    points = torch.load(f)\n",
    "points"
   ]
  },
  {
   "cell_type": "code",
   "execution_count": 135,
   "metadata": {},
   "outputs": [],
   "source": [
    "# HDF5 format - accepts and returns data under the form of NumPy arrays\n",
    "import h5py\n",
    "file_name = 'data/points.hdf5'\n",
    "\n",
    "# write the data to a file on disk\n",
    "f = h5py.File(file_name, 'w')\n",
    "# 'coords' is a key into the HDF5 file\n",
    "dset = f.create_dataset('coords', data=points.numpy()) \n",
    "f.close()\n",
    "# read the data from file in memory\n",
    "f = h5py.File(file_name, 'r')\n",
    "# access the key:value pairs representing the data, stored in memory\n",
    "dset = f['coords']\n",
    "# you can index the data set while on disk and access only the elements you’re interested in\n",
    "last_points = dset[1:]\n",
    "# then convert to a PyTorch Tensor\n",
    "last_points = torch.from_numpy(dset[1:]) \n",
    "f.close()"
   ]
  },
  {
   "cell_type": "markdown",
   "metadata": {},
   "source": [
    "# Moving tensors to the GPU"
   ]
  },
  {
   "cell_type": "code",
   "execution_count": 139,
   "metadata": {},
   "outputs": [],
   "source": [
    "# MacOS does not have a GPU with CUDA cores\n",
    "points_gpu1 = torch.tensor([[1.0, 4.0], [2.0, 1.0], [3.0, 4.0]], device='cuda')\n",
    "points_gpu2 = points.to(device='cuda') # equivalent to points.cuda()\n",
    "# You can specify which GPU ot use\n",
    "points_gpu3 = points.to(device='cuda:0') # equivalent to points.cuda(0)\n",
    "# Perform your GPU calculations\n",
    "points_gpu1 = points_gpu1 + 4\n",
    "# then convert back to cpu tensor\n",
    "points_cpu = points_gpu1.to(device='cpu') # equivalent to points_gpu1.cpu()"
   ]
  },
  {
   "cell_type": "markdown",
   "metadata": {},
   "source": [
    "# The tensor API"
   ]
  },
  {
   "cell_type": "code",
   "execution_count": 140,
   "metadata": {},
   "outputs": [
    {
     "output_type": "execute_result",
     "data": {
      "text/plain": "tensor([[0., 0.],\n        [0., 0.],\n        [0., 0.]])"
     },
     "metadata": {},
     "execution_count": 140
    }
   ],
   "source": [
    "# transpose a tensor\n",
    "a = torch.ones(3, 2) \n",
    "a_t = a.transpose(0, 1)\n",
    "\n",
    "# empty a tensor\n",
    "a = torch.ones(3, 2)\n",
    "a.zero_()\n",
    "\n"
   ]
  },
  {
   "cell_type": "code",
   "execution_count": 148,
   "metadata": {},
   "outputs": [
    {
     "output_type": "error",
     "ename": "AttributeError",
     "evalue": "'list' object has no attribute 'view'",
     "traceback": [
      "\u001b[0;31m---------------------------------------------------------------------------\u001b[0m",
      "\u001b[0;31mAttributeError\u001b[0m                            Traceback (most recent call last)",
      "\u001b[0;32m<ipython-input-148-13aec5ade6d4>\u001b[0m in \u001b[0;36m<module>\u001b[0;34m\u001b[0m\n\u001b[0;32m----> 1\u001b[0;31m \u001b[0mb\u001b[0m \u001b[0;34m=\u001b[0m \u001b[0ma\u001b[0m\u001b[0;34m.\u001b[0m\u001b[0mview\u001b[0m\u001b[0;34m(\u001b[0m\u001b[0;36m3\u001b[0m\u001b[0;34m,\u001b[0m \u001b[0;36m3\u001b[0m\u001b[0;34m)\u001b[0m\u001b[0;34m\u001b[0m\u001b[0;34m\u001b[0m\u001b[0m\n\u001b[0m\u001b[1;32m      2\u001b[0m \u001b[0mb\u001b[0m\u001b[0;34m[\u001b[0m\u001b[0;36m1\u001b[0m\u001b[0;34m,\u001b[0m\u001b[0;36m1\u001b[0m\u001b[0;34m]\u001b[0m\u001b[0;34m\u001b[0m\u001b[0;34m\u001b[0m\u001b[0m\n",
      "\u001b[0;31mAttributeError\u001b[0m: 'list' object has no attribute 'view'"
     ]
    }
   ],
   "source": [
    "b = a.view(3, 3)\n",
    "b[1,1]"
   ]
  },
  {
   "cell_type": "code",
   "execution_count": null,
   "metadata": {},
   "outputs": [],
   "source": []
  },
  {
   "cell_type": "code",
   "execution_count": null,
   "metadata": {},
   "outputs": [],
   "source": []
  },
  {
   "cell_type": "markdown",
   "metadata": {},
   "source": [
    "# Numeric types"
   ]
  }
 ],
 "metadata": {
  "language_info": {
   "codemirror_mode": {
    "name": "ipython",
    "version": 3
   },
   "file_extension": ".py",
   "mimetype": "text/x-python",
   "name": "python",
   "nbconvert_exporter": "python",
   "pygments_lexer": "ipython3",
   "version": "3.7.4-final"
  },
  "orig_nbformat": 2,
  "kernelspec": {
   "name": "python3",
   "display_name": "Python 3"
  }
 },
 "nbformat": 4,
 "nbformat_minor": 2
}