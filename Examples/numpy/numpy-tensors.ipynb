{
 "cells": [
  {
   "cell_type": "code",
   "execution_count": 1,
   "metadata": {},
   "outputs": [],
   "source": [
    "import numpy as np"
   ]
  },
  {
   "cell_type": "code",
   "execution_count": 18,
   "metadata": {
    "tags": []
   },
   "outputs": [
    {
     "output_type": "stream",
     "name": "stdout",
     "text": "S's type = ()\ns + 3 = 8\nX's Type = int64\nX's Shape = ()\n"
    }
   ],
   "source": [
    "# Scalar types are a single valuee with zero dimensions\n",
    "s = np.array(5)\n",
    "# \"()\" indicates that it has zero dimensions\n",
    "print(\"S's type = {}\".format(s.shape))\n",
    "# Even though scalars are inside arrays, you still use them like a normal scalar\n",
    "x = s + 3\n",
    "print(\"s + 3 = {}\".format(x))\n",
    "print(\"X's Type = {}\".format(x.dtype))\n",
    "print(\"X's Shape = {}\".format(x.shape))"
   ]
  },
  {
   "cell_type": "code",
   "execution_count": 25,
   "metadata": {
    "tags": []
   },
   "outputs": [
    {
     "output_type": "stream",
     "name": "stdout",
     "text": "V's Type = int64\nV's Shape = (3,)\nV[0] = 1\nV[1] to V[2] = [2 3]\n"
    }
   ],
   "source": [
    "# Vectors contain multiple scalars in either row or column format\n",
    "v = np.array([1,2,3])\n",
    "print(\"V's Type = {}\".format(v.dtype))\n",
    "# \"(3,)\" represents the vector's one-dimensional length\n",
    "print(\"V's Shape = {}\".format(v.shape))\n",
    "# Each element can be accessed using \"[]\" notation\n",
    "x = v[0]\n",
    "print(\"V[0] = {}\".format(x))\n",
    "# Slices can be accessed using \":\" notation\n",
    "y = v[1:]\n",
    "print(\"V[1] to V[2] = {}\".format(y))\n"
   ]
  },
  {
   "cell_type": "code",
   "execution_count": 50,
   "metadata": {
    "tags": []
   },
   "outputs": [
    {
     "output_type": "stream",
     "name": "stdout",
     "text": "M's Type = int64\nM's Shape = (3, 3)\nM[1][2] = 6\n"
    }
   ],
   "source": [
    "# Matricies are multiple values collected in a grid\n",
    "m = np.array([[1,2,3], [4,5,6], [7,8,9]])\n",
    "print(\"M's Type = {}\".format(m.dtype))\n",
    "# \"(3, 3)\" indicates it has two dimensions, each length 3\n",
    "print(\"M's Shape = {}\".format(m.shape))\n",
    "# Each element can be accessed using \"[]\" notation\n",
    "x = m[1][2]\n",
    "print(\"M[1][2] = {}\".format(x))\n"
   ]
  },
  {
   "cell_type": "code",
   "execution_count": 33,
   "metadata": {
    "tags": []
   },
   "outputs": [
    {
     "output_type": "stream",
     "name": "stdout",
     "text": "T's Type = int64\nT's Shape = (3, 3, 2, 1)\nT[2][1][1][0] = 16\n"
    }
   ],
   "source": [
    "# Tensors are any n-dimensional collection of values\n",
    "t = np.array([[[[1],[2]],[[3],[4]],[[5],[6]]],[[[7],[8]],\\\n",
    "    [[9],[10]],[[11],[12]]],[[[13],[14]],[[15],[16]],[[17],[17]]]])\n",
    "print(\"T's Type = {}\".format(t.dtype))\n",
    "# \"(3, 3, 2, 1)\" indicates it has four dimensions\n",
    "print(\"T's Shape = {}\".format(t.shape))\n",
    "# Each element can be accessed using \"[]\" notation\n",
    "x = t[2][1][1][0]\n",
    "print(\"T[2][1][1][0] = {}\".format(x))"
   ]
  },
  {
   "cell_type": "code",
   "execution_count": 39,
   "metadata": {
    "tags": []
   },
   "outputs": [
    {
     "output_type": "stream",
     "name": "stdout",
     "text": "Row Vector's Shape = (4,)\nColumn Vector's Shape = (1, 4)\nSlice's Shape = (1, 4)\nSlice's Shape = (4, 1)\n"
    }
   ],
   "source": [
    "# Sometimes you'll need to change the shape of your data without actually changing its contents\n",
    "rv = np.array([1,2,3,4])\n",
    "# \"(4,)\" indicates it has one dimension with length 4\n",
    "print(\"Row Vector's Shape = {}\".format(rv.shape))\n",
    "# to reshape it from a vector to a matrix use reshape\n",
    "cv = rv.reshape(1,4)\n",
    "# \"(1, 4)\" indicates it has two dimensions\n",
    "print(\"Column Vector's Shape = {}\".format(cv.shape))\n",
    "# Alternatively you can use the \":\" notation to reshape\n",
    "s = v[None, :]\n",
    "print(\"Slice's Shape = {}\".format(x.shape))\n",
    "x = v[:, None]\n",
    "print(\"Slice's Shape = {}\".format(x.shape))"
   ]
  },
  {
   "cell_type": "code",
   "execution_count": 53,
   "metadata": {
    "tags": []
   },
   "outputs": [
    {
     "output_type": "stream",
     "name": "stdout",
     "text": "Array = [6, 7, 8, 9, 10]\nVector = [ 6  7  8  9 10]\n[[1 2 3]\n [4 5 6]\n [7 8 9]]\n[[0 0 0]\n [0 0 0]\n [0 0 0]]\n[[ 1  4  9]\n [16 25 36]\n [49 64 81]]\n"
    },
    {
     "output_type": "error",
     "ename": "ValueError",
     "evalue": "operands could not be broadcast together with shapes (3,3) (3,3,2,1) ",
     "traceback": [
      "\u001b[0;31m---------------------------------------------------------------------------\u001b[0m",
      "\u001b[0;31mValueError\u001b[0m                                Traceback (most recent call last)",
      "\u001b[0;32m<ipython-input-53-044f83d5bc75>\u001b[0m in \u001b[0;36m<module>\u001b[0;34m\u001b[0m\n\u001b[1;32m     17\u001b[0m \u001b[0mprint\u001b[0m\u001b[0;34m(\u001b[0m\u001b[0my\u001b[0m\u001b[0;34m)\u001b[0m\u001b[0;34m\u001b[0m\u001b[0;34m\u001b[0m\u001b[0m\n\u001b[1;32m     18\u001b[0m \u001b[0;31m# Be careful of the shapes\u001b[0m\u001b[0;34m\u001b[0m\u001b[0;34m\u001b[0m\u001b[0;34m\u001b[0m\u001b[0m\n\u001b[0;32m---> 19\u001b[0;31m \u001b[0mz\u001b[0m \u001b[0;34m=\u001b[0m \u001b[0mm\u001b[0m \u001b[0;34m*\u001b[0m \u001b[0mt\u001b[0m\u001b[0;34m\u001b[0m\u001b[0;34m\u001b[0m\u001b[0m\n\u001b[0m",
      "\u001b[0;31mValueError\u001b[0m: operands could not be broadcast together with shapes (3,3) (3,3,2,1) "
     ]
    }
   ],
   "source": [
    "# Element-wise Operations\n",
    "# Naieve Method of adding 5 to all elements of an array\n",
    "arr = [1,2,3,4,5]\n",
    "for i in range(len(values)):\n",
    "    arr[i] += 5\n",
    "print(\"Array = {}\".format(arr))\n",
    "# We can use numpy to do the same thing, but using tensors instead\n",
    "vect = np.array([1,2,3,4,5])\n",
    "vect += 5\n",
    "print(\"Vector = {}\".format(vect))\n",
    "# We can use this to our advatage if we want to reuse a tensor\n",
    "print(m)\n",
    "x = m * 0\n",
    "print(x)\n",
    "# We can also perform math on tensors, like exponentiation\n",
    "y = m * m\n",
    "print(y)\n",
    "# Be careful of the shapes; this fails to process:\n",
    "z = m * t"
   ]
  },
  {
   "cell_type": "code",
   "execution_count": 55,
   "metadata": {
    "tags": []
   },
   "outputs": [
    {
     "output_type": "stream",
     "name": "stdout",
     "text": "M = [[1 2 3]\n [4 5 6]]\nN = [[0.25 0.5  0.75]\n [1.   1.25 1.5 ]]\nM * N = [[0.25 1.   2.25]\n [4.   6.25 9.  ]]\n"
    }
   ],
   "source": [
    "# Element-wise Multiplication\n",
    "m = np.array([[1,2,3],[4,5,6]])\n",
    "print(\"M = {}\".format(m))\n",
    "# We could multiply the matrix by a scalar\n",
    "n = m * 0.25\n",
    "print(\"N = {}\".format(n))\n",
    "# We could multiply two matricies\n",
    "print(\"M * N = {}\".format(m * n))\n"
   ]
  },
  {
   "cell_type": "code",
   "execution_count": 58,
   "metadata": {
    "tags": []
   },
   "outputs": [
    {
     "output_type": "stream",
     "name": "stdout",
     "text": "A's Shape = (2, 4)\nB's Shape = (4, 3)\nC's Shape = (2, 3)\n"
    },
    {
     "output_type": "error",
     "ename": "ValueError",
     "evalue": "matmul: Input operand 1 has a mismatch in its core dimension 0, with gufunc signature (n?,k),(k,m?)->(n?,m?) (size 2 is different from 3)",
     "traceback": [
      "\u001b[0;31m---------------------------------------------------------------------------\u001b[0m",
      "\u001b[0;31mValueError\u001b[0m                                Traceback (most recent call last)",
      "\u001b[0;32m<ipython-input-58-961fd2a45d44>\u001b[0m in \u001b[0;36m<module>\u001b[0;34m\u001b[0m\n\u001b[1;32m      8\u001b[0m \u001b[0mprint\u001b[0m\u001b[0;34m(\u001b[0m\u001b[0;34m\"C's Shape = {}\"\u001b[0m\u001b[0;34m.\u001b[0m\u001b[0mformat\u001b[0m\u001b[0;34m(\u001b[0m\u001b[0mc\u001b[0m\u001b[0;34m.\u001b[0m\u001b[0mshape\u001b[0m\u001b[0;34m)\u001b[0m\u001b[0;34m)\u001b[0m\u001b[0;34m\u001b[0m\u001b[0;34m\u001b[0m\u001b[0m\n\u001b[1;32m      9\u001b[0m \u001b[0;31m# Be careful of the shapes of your matricies; this wont run\u001b[0m\u001b[0;34m\u001b[0m\u001b[0;34m\u001b[0m\u001b[0;34m\u001b[0m\u001b[0m\n\u001b[0;32m---> 10\u001b[0;31m \u001b[0mnp\u001b[0m\u001b[0;34m.\u001b[0m\u001b[0mmatmul\u001b[0m\u001b[0;34m(\u001b[0m\u001b[0mb\u001b[0m\u001b[0;34m,\u001b[0m \u001b[0ma\u001b[0m\u001b[0;34m)\u001b[0m\u001b[0;34m\u001b[0m\u001b[0;34m\u001b[0m\u001b[0m\n\u001b[0m",
      "\u001b[0;31mValueError\u001b[0m: matmul: Input operand 1 has a mismatch in its core dimension 0, with gufunc signature (n?,k),(k,m?)->(n?,m?) (size 2 is different from 3)"
     ]
    }
   ],
   "source": [
    "# Matrix Product\n",
    "a = np.array([[1,2,3,4],[5,6,7,8]])\n",
    "print(\"A's Shape = {}\".format(a.shape))\n",
    "b = np.array([[1,2,3],[4,5,6],[7,8,9],[10,11,12]])\n",
    "print(\"B's Shape = {}\".format(b.shape))\n",
    "# matrix mulitply a and b\n",
    "c = np.matmul(a, b)\n",
    "print(\"C's Shape = {}\".format(c.shape))\n",
    "# Be careful of the shapes of your matricies; this wont run\n",
    "np.matmul(b, a)\n"
   ]
  },
  {
   "cell_type": "code",
   "execution_count": 59,
   "metadata": {},
   "outputs": [
    {
     "output_type": "execute_result",
     "data": {
      "text/plain": "array([[ 7, 10],\n       [15, 22]])"
     },
     "metadata": {},
     "execution_count": 59
    }
   ],
   "source": [
    "# Dot Product\n",
    "a = np.array([[1,2],[3,4]])\n",
    "a.dot(a)"
   ]
  },
  {
   "cell_type": "code",
   "execution_count": 66,
   "metadata": {
    "tags": []
   },
   "outputs": [
    {
     "output_type": "stream",
     "name": "stdout",
     "text": "[[ 1  2  3  4]\n [ 5  6  7  8]\n [ 9 10 11 12]]\n[[ 1  5  9]\n [ 2  6 10]\n [ 3  7 11]\n [ 4  8 12]]\n[[  1   5   9]\n [  2   6  10]\n [  3   7  11]\n [  4 200  12]]\n[[  1   2   3   4]\n [  5   6   7 200]\n [  9  10  11  12]]\n"
    }
   ],
   "source": [
    "# Transpose\n",
    "m = np.array([[1,2,3,4], [5,6,7,8], [9,10,11,12]])\n",
    "print(m)\n",
    "# Consider the transpose just as a different view of your matrix\n",
    "m_t = m.T\n",
    "print(m_t)\n",
    "# Be careful how you modify objects; this modifies both m_t and m\n",
    "m_t[3][1] = 200\n",
    "print(m_t)\n",
    "print(m)"
   ]
  },
  {
   "cell_type": "code",
   "execution_count": 73,
   "metadata": {
    "tags": []
   },
   "outputs": [
    {
     "output_type": "stream",
     "name": "stdout",
     "text": "Inputs = [[-0.27  0.45  0.64  0.31]]\nInput's Shape = (1, 4)\nWeights = [[ 0.02   0.001 -0.03   0.036]\n [ 0.04  -0.003  0.025  0.009]\n [ 0.012 -0.045  0.28  -0.067]]\nWeight's Shape = (3, 4)\n[[-0.01299  0.00664  0.13494]]\n[[-0.01299]\n [ 0.00664]\n [ 0.13494]]\n"
    }
   ],
   "source": [
    "# Neural Network Example\n",
    "inputs = np.array([[-0.27,  0.45,  0.64, 0.31]])\n",
    "print(\"Inputs = {}\".format(inputs))\n",
    "print(\"Input's Shape = {}\".format(inputs.shape))\n",
    "weights = np.array([[0.02, 0.001, -0.03, 0.036], \\\n",
    "    [0.04, -0.003, 0.025, 0.009], [0.012, -0.045, 0.28, -0.067]])\n",
    "print(\"Weights = {}\".format(weights))\n",
    "print(\"Weight's Shape = {}\".format(weights.shape))\n",
    "# Trying this will get a ValueError due to 1x4 and 3x4 not being compatible\n",
    "#np.matmul(inputs, weights)\n",
    "# You might think using a Transpose would be a good idea\n",
    "x = np.matmul(inputs, weights.T)\n",
    "# Alternatively we could do it the second way:\n",
    "y = np.matmul(weights, inputs.T)\n",
    "print(x)\n",
    "print(y)"
   ]
  },
  {
   "cell_type": "code",
   "execution_count": 110,
   "metadata": {
    "tags": []
   },
   "outputs": [],
   "source": [
    "def prepare_inputs(inputs):\n",
    "    # Creates a 2-dimensional ndarray from the given 1-dimensional list\n",
    "    input_array = np.array([inputs])\n",
    "    \n",
    "    # Finds the minimum value in input_array\n",
    "    min_val = input_array.min()\n",
    "    # Subtracts min_val from all the elements of input_array\n",
    "    inputs_minus_min = input_array - min_val\n",
    "\n",
    "    # Finds the maximum value in inputs_minus_min\n",
    "    max_val = inputs_minus_min.max()\n",
    "    # Divides all of the values in inputs_minus_min by max_val\n",
    "    inputs_div_max = inputs_minus_min / max_val\n",
    "\n",
    "    # return the three arrays we've created\n",
    "    return input_array, inputs_minus_min, inputs_div_max"
   ]
  },
  {
   "cell_type": "code",
   "execution_count": 146,
   "metadata": {
    "tags": []
   },
   "outputs": [],
   "source": [
    "def multiply_inputs(m1, m2):\n",
    "    # Check the shapes can be used for matrix multiplication\n",
    "    if m1.shape[0] != m2.shape[1] and m1.shape[1] != m2.shape[0]:     \n",
    "        return False\n",
    "\n",
    "    # Calculates the matrix product of m1 and m2\n",
    "    if m1.shape[1] == m2.shape[0]:\n",
    "        return np.matmul(m1, m2)        \n",
    "    else:\n",
    "        return np.matmul(m2, m1)"
   ]
  },
  {
   "cell_type": "code",
   "execution_count": 147,
   "metadata": {},
   "outputs": [],
   "source": [
    "def find_mean(values):\n",
    "    # Returns the average of the values in the given Python list\n",
    "    return np.mean(values)"
   ]
  },
  {
   "cell_type": "code",
   "execution_count": 148,
   "metadata": {
    "tags": []
   },
   "outputs": [
    {
     "output_type": "stream",
     "name": "stdout",
     "text": "Input as Array: [-1  2  7]\nInput minus min: [0 3 8]\nInput  Array: [0.    0.375 1.   ]\nMultiply 1:\nFalse\nMultiply 2:\n[[14]\n [32]]\nMultiply 3:\n[[ 9 12 15]]\nMean == 2.6666666666666665\n"
    }
   ],
   "source": [
    "input_array, inputs_minus_min, inputs_div_max = prepare_inputs([-1,2,7])\n",
    "print(\"Input as Array: {}\".format(input_array))\n",
    "print(\"Input minus min: {}\".format(inputs_minus_min))\n",
    "print(\"Input  Array: {}\".format(inputs_div_max))\n",
    "\n",
    "print(\"Multiply 1:\\n{}\".format(multiply_inputs(np.array([[1,2,3],[4,5,6]]), np.array([[1],[2],[3],[4]]))))\n",
    "print(\"Multiply 2:\\n{}\".format(multiply_inputs(np.array([[1,2,3],[4,5,6]]), np.array([[1],[2],[3]]))))\n",
    "print(\"Multiply 3:\\n{}\".format(multiply_inputs(np.array([[1,2,3],[4,5,6]]), np.array([[1,2]]))))\n",
    "\n",
    "print(\"Mean == {}\".format(find_mean([1,3,4])))"
   ]
  },
  {
   "cell_type": "code",
   "execution_count": null,
   "metadata": {},
   "outputs": [],
   "source": []
  },
  {
   "cell_type": "code",
   "execution_count": null,
   "metadata": {},
   "outputs": [],
   "source": []
  }
 ],
 "metadata": {
  "language_info": {
   "codemirror_mode": {
    "name": "ipython",
    "version": 3
   },
   "file_extension": ".py",
   "mimetype": "text/x-python",
   "name": "python",
   "nbconvert_exporter": "python",
   "pygments_lexer": "ipython3",
   "version": "3.7.4-final"
  },
  "orig_nbformat": 2,
  "kernelspec": {
   "name": "python3",
   "display_name": "Python 3"
  }
 },
 "nbformat": 4,
 "nbformat_minor": 2
}